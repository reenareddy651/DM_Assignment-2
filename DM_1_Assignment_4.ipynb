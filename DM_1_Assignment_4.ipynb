{
  "nbformat": 4,
  "nbformat_minor": 0,
  "metadata": {
    "colab": {
      "provenance": []
    },
    "kernelspec": {
      "name": "python3",
      "display_name": "Python 3"
    },
    "language_info": {
      "name": "python"
    }
  },
  "cells": [
    {
      "cell_type": "code",
      "execution_count": 1,
      "metadata": {
        "id": "adi7Sgoxf4l2"
      },
      "outputs": [],
      "source": [
        "import os\n",
        "import numpy as np, pandas as pd\n",
        "import keras\n",
        "\n",
        "import torch\n",
        "from torch import nn, optim\n",
        "from torchvision import datasets, models, transforms\n",
        "\n",
        "from sklearn.cluster import KMeans\n",
        "from sklearn.cluster import BisectingKMeans\n",
        "from sklearn.cluster import SpectralClustering\n",
        "from sklearn.cluster import DBSCAN\n",
        "from sklearn.cluster import AgglomerativeClustering\n",
        "from sklearn.metrics import fowlkes_mallows_score\n",
        "from sklearn.metrics import silhouette_score"
      ]
    },
    {
      "cell_type": "code",
      "source": [
        "directory = '/content/drive/MyDrive/Reena_Dataset'"
      ],
      "metadata": {
        "id": "rIksHovA9xy3"
      },
      "execution_count": 3,
      "outputs": []
    },
    {
      "cell_type": "code",
      "source": [
        "y = []\n",
        "idx = 0\n",
        "classes = os.listdir(directory)\n",
        "for i in classes:\n",
        "  folders = os.listdir(os.path.join(directory,i))\n",
        "  for j in folders:\n",
        "    y.append(idx)\n",
        "  idx+=1\n",
        "y = np.array(y)"
      ],
      "metadata": {
        "id": "YYueOnDZHa_E"
      },
      "execution_count": 180,
      "outputs": []
    },
    {
      "cell_type": "markdown",
      "source": [
        "**1**"
      ],
      "metadata": {
        "id": "ohaL5ni90iNO"
      }
    },
    {
      "cell_type": "markdown",
      "source": [
        "**a) Resize**"
      ],
      "metadata": {
        "id": "v5quyBdtGLlb"
      }
    },
    {
      "cell_type": "code",
      "source": [
        "def resize(data):\n",
        "  datatransforms = transforms.Compose([\n",
        "                              transforms.Resize(224),\n",
        "                              transforms.ToTensor(),\n",
        "                             ])\n",
        "  dataset = datasets.ImageFolder(data, transform=datatransforms)\n",
        "  dataiter  = torch.utils.data.DataLoader(dataset, batch_size=1, shuffle = False)\n",
        "  return dataiter"
      ],
      "metadata": {
        "id": "6514adwnxmKV"
      },
      "execution_count": 9,
      "outputs": []
    },
    {
      "cell_type": "code",
      "source": [
        "data_resize = resize(directory)"
      ],
      "metadata": {
        "id": "PXliLtxCyEqw"
      },
      "execution_count": 11,
      "outputs": []
    },
    {
      "cell_type": "markdown",
      "source": [
        "**b) Normalize**"
      ],
      "metadata": {
        "id": "5K3YvzdrGOuY"
      }
    },
    {
      "cell_type": "code",
      "source": [
        "def normalize(data):\n",
        "  mean = torch.mean(data)\n",
        "  std = torch.std(data)\n",
        "  tensor = (data-mean)/std\n",
        "  return tensor"
      ],
      "metadata": {
        "id": "5vym3amqyhGc"
      },
      "execution_count": 14,
      "outputs": []
    },
    {
      "cell_type": "code",
      "source": [
        "data_normalize = []\n",
        "for i in data_resize:\n",
        "  data_normalize.append(normalize(i[0]))"
      ],
      "metadata": {
        "id": "ec8SJRxmy7tB"
      },
      "execution_count": 15,
      "outputs": []
    },
    {
      "cell_type": "markdown",
      "source": [
        "**c) Extract Features**"
      ],
      "metadata": {
        "id": "Hv7IlaXUHorR"
      }
    },
    {
      "cell_type": "code",
      "source": [
        "model = models.resnet18()\n",
        "model = torch.nn.Sequential(*(list(model.children())[:-1]))\n",
        "def get_features(data):\n",
        "  with torch.no_grad():\n",
        "    feat = model(data)\n",
        "  return feat"
      ],
      "metadata": {
        "id": "IMH68gYYF9Vv"
      },
      "execution_count": 29,
      "outputs": []
    },
    {
      "cell_type": "code",
      "source": [
        "extracted_features = []\n",
        "for i in data_normalize:\n",
        "  extracted_features.append(get_features(i))"
      ],
      "metadata": {
        "id": "6cqKEQgB3lye"
      },
      "execution_count": 30,
      "outputs": []
    },
    {
      "cell_type": "markdown",
      "source": [
        "**2. Dimensionality Reduction**"
      ],
      "metadata": {
        "id": "uQOiM3MO4uG3"
      }
    },
    {
      "cell_type": "code",
      "source": [
        "def dim_redn(data):\n",
        "  red_feat = torch.nn.functional.adaptive_avg_pool2d(data, (1, 1))\n",
        "  red_feat = red_feat.view(512)\n",
        "  red_feat = np.array(red_feat)\n",
        "  return red_feat"
      ],
      "metadata": {
        "id": "hnt1kPTM41rF"
      },
      "execution_count": 38,
      "outputs": []
    },
    {
      "cell_type": "code",
      "source": [
        "features_2d = []\n",
        "for i in extracted_features:\n",
        "  features_2d.append(dim_redn(i))\n",
        "features_2d = np.array(features_2d)\n",
        "features_2d.shape"
      ],
      "metadata": {
        "colab": {
          "base_uri": "https://localhost:8080/"
        },
        "id": "345SguwL5oea",
        "outputId": "2d304908-420d-4df7-be04-60f15c22fdbc"
      },
      "execution_count": 39,
      "outputs": [
        {
          "output_type": "execute_result",
          "data": {
            "text/plain": [
              "(659, 512)"
            ]
          },
          "metadata": {},
          "execution_count": 39
        }
      ]
    },
    {
      "cell_type": "markdown",
      "source": [
        "**3. Clustering Algorithm**"
      ],
      "metadata": {
        "id": "7ETNVUES6GoG"
      }
    },
    {
      "cell_type": "markdown",
      "source": [
        "a"
      ],
      "metadata": {
        "id": "JJgp7bq56RJK"
      }
    },
    {
      "cell_type": "code",
      "source": [
        "kmeans_random = KMeans(n_clusters=4, init=\"random\", n_init = 'auto').fit(features_2d)"
      ],
      "metadata": {
        "id": "xMwDlQpP6S7Z"
      },
      "execution_count": 40,
      "outputs": []
    },
    {
      "cell_type": "markdown",
      "source": [
        "b"
      ],
      "metadata": {
        "id": "WbJsd7Qx6mfp"
      }
    },
    {
      "cell_type": "code",
      "source": [
        "kmeans_plus = KMeans(n_clusters=4, init=\"k-means++\", n_init = 'auto').fit(features_2d)"
      ],
      "metadata": {
        "id": "UcbaqHhW6nqj"
      },
      "execution_count": 41,
      "outputs": []
    },
    {
      "cell_type": "markdown",
      "source": [
        "c"
      ],
      "metadata": {
        "id": "657t56gs6x9b"
      }
    },
    {
      "cell_type": "code",
      "source": [
        "bisect_kmeans = BisectingKMeans(n_clusters=4,init='random').fit(features_2d)"
      ],
      "metadata": {
        "id": "uz_Z09ls6ziq"
      },
      "execution_count": 42,
      "outputs": []
    },
    {
      "cell_type": "markdown",
      "source": [
        "d"
      ],
      "metadata": {
        "id": "o73ynJzi6z-3"
      }
    },
    {
      "cell_type": "code",
      "source": [
        "spectral_cluster = SpectralClustering(n_clusters=4).fit(features_2d)"
      ],
      "metadata": {
        "id": "EvQ6PvIw6xGG"
      },
      "execution_count": 43,
      "outputs": []
    },
    {
      "cell_type": "markdown",
      "source": [
        "**DBSCAN**"
      ],
      "metadata": {
        "id": "vX7sKtmx7a34"
      }
    },
    {
      "cell_type": "code",
      "source": [
        "dbscan = DBSCAN(eps=1.72, min_samples=1).fit(features_2d)\n",
        "labels = db.labels_\n",
        "n_clusters_ = len(set(labels)) - (1 if -1 in labels else 0)\n",
        "n_noise_ = list(labels).count(-1)\n",
        "\n",
        "print(\"Estimated number of clusters: %d\" % n_clusters_)\n",
        "print(\"Estimated number of noise points: %d\" % n_noise_)"
      ],
      "metadata": {
        "colab": {
          "base_uri": "https://localhost:8080/"
        },
        "id": "lXkexvwLU7qX",
        "outputId": "e2fb76e5-be2e-4655-fadb-a0edc0fcd105"
      },
      "execution_count": 165,
      "outputs": [
        {
          "output_type": "stream",
          "name": "stdout",
          "text": [
            "Estimated number of clusters: 4\n",
            "Estimated number of noise points: 0\n"
          ]
        }
      ]
    },
    {
      "cell_type": "markdown",
      "source": [
        "To get 4 clusters i used eps=1.72 and min_samples = 1"
      ],
      "metadata": {
        "id": "_USJP67_-ZsC"
      }
    },
    {
      "cell_type": "markdown",
      "source": [
        "**Agglomerative clustering**"
      ],
      "metadata": {
        "id": "AJ3n4zeqD6f6"
      }
    },
    {
      "cell_type": "markdown",
      "source": [
        "Single link"
      ],
      "metadata": {
        "id": "I-2XSX3pD-IT"
      }
    },
    {
      "cell_type": "code",
      "source": [
        "single = AgglomerativeClustering(n_clusters=4, linkage = 'single').fit(features_2d)"
      ],
      "metadata": {
        "id": "t5HTZlWnEaas"
      },
      "execution_count": 161,
      "outputs": []
    },
    {
      "cell_type": "markdown",
      "source": [
        "Complete link"
      ],
      "metadata": {
        "id": "C_TvZMTLD98B"
      }
    },
    {
      "cell_type": "code",
      "source": [
        "complete = AgglomerativeClustering(n_clusters=4, linkage = 'complete').fit(features_2d)"
      ],
      "metadata": {
        "id": "O3QhpZ8ZEa6e"
      },
      "execution_count": 162,
      "outputs": []
    },
    {
      "cell_type": "markdown",
      "source": [
        " Group Average"
      ],
      "metadata": {
        "id": "kQPvs--UD9x6"
      }
    },
    {
      "cell_type": "code",
      "source": [
        "grp_avg = AgglomerativeClustering(n_clusters=4, linkage = 'average').fit(features_2d)"
      ],
      "metadata": {
        "id": "8pjnU5ydEcHW"
      },
      "execution_count": 163,
      "outputs": []
    },
    {
      "cell_type": "markdown",
      "source": [
        "Ward’s method"
      ],
      "metadata": {
        "id": "-LV3EgLuD9g1"
      }
    },
    {
      "cell_type": "code",
      "source": [
        "ward = AgglomerativeClustering(n_clusters=4, linkage = 'ward').fit(features_2d)"
      ],
      "metadata": {
        "id": "7FtdVEcLDush"
      },
      "execution_count": 164,
      "outputs": []
    },
    {
      "cell_type": "markdown",
      "source": [
        "**4. Clustering Evaluations**"
      ],
      "metadata": {
        "id": "Pixx6pdsE8Op"
      }
    },
    {
      "cell_type": "code",
      "source": [
        "models = [kmeans_random,kmeans_plus,bisect_kmeans,spectral_cluster,dbscan,single,complete,grp_avg,ward]"
      ],
      "metadata": {
        "id": "HNID5mb1FDbB"
      },
      "execution_count": 166,
      "outputs": []
    },
    {
      "cell_type": "markdown",
      "source": [
        "Fowlkes mallows score"
      ],
      "metadata": {
        "id": "h1YPQQ4SWPmF"
      }
    },
    {
      "cell_type": "code",
      "source": [
        "for i in models:\n",
        "    pred = i.fit_predict(features_2d)\n",
        "    fms = fowlkes_mallows_score(y,pred)\n",
        "    print(f\"Model : {i}             fowlkes_mallows_score : {fms}\")"
      ],
      "metadata": {
        "colab": {
          "base_uri": "https://localhost:8080/"
        },
        "id": "j_-_h7ndFocO",
        "outputId": "492165d9-52c4-416c-8ce0-eb7799bf2218"
      },
      "execution_count": 190,
      "outputs": [
        {
          "output_type": "stream",
          "name": "stdout",
          "text": [
            "Model : KMeans(init='random', n_clusters=4, n_init='auto')             fowlkes_mallows_score : 0.2874917442183226\n",
            "Model : KMeans(n_clusters=4, n_init='auto')             fowlkes_mallows_score : 0.287288217443725\n",
            "Model : BisectingKMeans(n_clusters=4)             fowlkes_mallows_score : 0.27126030250816296\n",
            "Model : SpectralClustering(n_clusters=4)             fowlkes_mallows_score : 0.2724794013028717\n",
            "Model : DBSCAN(eps=1.72, min_samples=1)             fowlkes_mallows_score : 0.49818585278832117\n",
            "Model : AgglomerativeClustering(linkage='single', n_clusters=4)             fowlkes_mallows_score : 0.49818585278832117\n",
            "Model : AgglomerativeClustering(linkage='complete', n_clusters=4)             fowlkes_mallows_score : 0.46306862249956965\n",
            "Model : AgglomerativeClustering(linkage='average', n_clusters=4)             fowlkes_mallows_score : 0.48608862674196596\n",
            "Model : AgglomerativeClustering(n_clusters=4)             fowlkes_mallows_score : 0.29428673737342675\n"
          ]
        }
      ]
    },
    {
      "cell_type": "markdown",
      "source": [
        "Ranking:\n",
        "1. AgglomerativeClustering - Single\n",
        "2. DBSCAN\n",
        "3. AgglomerativeClustering - Average\n",
        "4. AgglomerativeClustering - complete\n",
        "5. AgglomerativeClustering - ward\n",
        "6. kMeans - random\n",
        "7. Kmeans - kmeans++\n",
        "8. SpectralClustering\n",
        "9. BisectingKMeans  \n",
        "\n",
        "\n",
        "\n"
      ],
      "metadata": {
        "id": "UwM54I4HJdmn"
      }
    },
    {
      "cell_type": "markdown",
      "source": [
        "Silhouette score"
      ],
      "metadata": {
        "id": "AwOcT1DKWY8s"
      }
    },
    {
      "cell_type": "code",
      "source": [
        "y = np.array(y).reshape(-1,1)\n",
        "for i in models:\n",
        "    pred = i.fit_predict(features_2d)\n",
        "    ss = silhouette_score(y,pred)\n",
        "    print(f\"Model : {i}             silhouette_score : {ss}\")"
      ],
      "metadata": {
        "colab": {
          "base_uri": "https://localhost:8080/"
        },
        "id": "7TwIH96vLRZT",
        "outputId": "91755555-46bc-4ace-aa9c-46a6917f7a57"
      },
      "execution_count": 191,
      "outputs": [
        {
          "output_type": "stream",
          "name": "stdout",
          "text": [
            "Model : KMeans(init='random', n_clusters=4, n_init='auto')             silhouette_score : -0.06521150411431226\n",
            "Model : KMeans(n_clusters=4, n_init='auto')             silhouette_score : -0.0948270657557989\n",
            "Model : BisectingKMeans(n_clusters=4)             silhouette_score : -0.09643550697279615\n",
            "Model : SpectralClustering(n_clusters=4)             silhouette_score : -0.07716534096345021\n",
            "Model : DBSCAN(eps=1.72, min_samples=1)             silhouette_score : -0.510595391115971\n",
            "Model : AgglomerativeClustering(linkage='single', n_clusters=4)             silhouette_score : -0.510595391115971\n",
            "Model : AgglomerativeClustering(linkage='complete', n_clusters=4)             silhouette_score : -0.07697784500838915\n",
            "Model : AgglomerativeClustering(linkage='average', n_clusters=4)             silhouette_score : -0.5010831924155199\n",
            "Model : AgglomerativeClustering(n_clusters=4)             silhouette_score : -0.08293079765902359\n"
          ]
        }
      ]
    },
    {
      "cell_type": "markdown",
      "source": [
        "Ranking:\n",
        "1. kMeans - random\n",
        "2. AgglomerativeClustering - complete\n",
        "3. SpectralClustering\n",
        "4. AgglomerativeClustering - ward\n",
        "5. Kmeans - kmeans++\n",
        "6. BisectingKMeans\n",
        "7. AgglomerativeClustering - Average\n",
        "8. AgglomerativeClustering - Single\n",
        "9. DBSCAN\n"
      ],
      "metadata": {
        "id": "F2Sovf8GLsM5"
      }
    }
  ]
}